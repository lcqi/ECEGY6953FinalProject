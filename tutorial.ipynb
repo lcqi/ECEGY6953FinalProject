{
  "nbformat": 4,
  "nbformat_minor": 0,
  "metadata": {
    "colab": {
      "provenance": []
    },
    "kernelspec": {
      "name": "python3",
      "display_name": "Python 3"
    },
    "language_info": {
      "name": "python"
    },
    "accelerator": "GPU",
    "gpuClass": "standard"
  },
  "cells": [
    {
      "cell_type": "markdown",
      "source": [
        "# Download dataset and code"
      ],
      "metadata": {
        "id": "PixaT_-zOJK1"
      }
    },
    {
      "cell_type": "code",
      "execution_count": null,
      "metadata": {
        "id": "Dj03JpfKOAPV"
      },
      "outputs": [],
      "source": [
        "!pip install --upgrade --no-cache-dir gdown"
      ]
    },
    {
      "cell_type": "markdown",
      "source": [
        "If there is a problem with this link please contact lq2062@nyu.edu"
      ],
      "metadata": {
        "id": "EQio1aS4OXsf"
      }
    },
    {
      "cell_type": "code",
      "source": [
        "!gdown --id '1fwH_HNCaswYcHXw-MI7qeBlPF3uNJsiv'"
      ],
      "metadata": {
        "id": "6e8nr-XzOBuA"
      },
      "execution_count": null,
      "outputs": []
    },
    {
      "cell_type": "code",
      "source": [
        "%cd /content\n",
        "!zip -F yolov5_colab.zip --out yolov5_colab_large.zip\n",
        "!unzip yolov5_colab_large.zip -d /content"
      ],
      "metadata": {
        "id": "mGTUs3TlOjIp"
      },
      "execution_count": null,
      "outputs": []
    },
    {
      "cell_type": "code",
      "source": [
        "%cd yolov5/\n",
        "!pip install -r requirements.txt"
      ],
      "metadata": {
        "id": "SLhKOiyAS6-9"
      },
      "execution_count": null,
      "outputs": []
    },
    {
      "cell_type": "markdown",
      "source": [
        "#Train\n",
        "I trained models on my own computer and put all results in the zip file.\n",
        "\n",
        "You could see my results in /content/yolov5/runs/train."
      ],
      "metadata": {
        "id": "aSZ2v7G2TAts"
      }
    },
    {
      "cell_type": "markdown",
      "source": [
        "yolov5s with trained weights and batch-size=4 in runs/train/exp8, epoch=200"
      ],
      "metadata": {
        "id": "2Y-swXp7Uk6W"
      }
    },
    {
      "cell_type": "code",
      "source": [
        "!python train.py --weights yolov5s.pt --cfg models/yolov5s.yaml --batch-size=4 --epochs 200"
      ],
      "metadata": {
        "id": "aicGqZ_GUh1Y"
      },
      "execution_count": null,
      "outputs": []
    },
    {
      "cell_type": "markdown",
      "source": [
        "yolov5s with trained weights and batch-size=8 in runs/train/exp9, epoch=200"
      ],
      "metadata": {
        "id": "7jFMQ78bVGaA"
      }
    },
    {
      "cell_type": "code",
      "source": [
        "!python train.py --weights yolov5s.pt --cfg models/yolov5s.yaml --batch-size=8 --epochs 200"
      ],
      "metadata": {
        "id": "Tcu7IZvVWsff"
      },
      "execution_count": null,
      "outputs": []
    },
    {
      "cell_type": "markdown",
      "source": [
        "yolov5s with trained weights and batch-size=2 in runs/train/exp10, epoch=200"
      ],
      "metadata": {
        "id": "DlbI9MBvVV90"
      }
    },
    {
      "cell_type": "code",
      "source": [
        "!python train.py --weights yolov5s.pt --cfg models/yolov5s.yaml --batch-size=2 --epochs 200"
      ],
      "metadata": {
        "id": "W5wjgdjtWxLd"
      },
      "execution_count": null,
      "outputs": []
    },
    {
      "cell_type": "markdown",
      "source": [
        "yolov5s with trained weights and batch-size=16 in runs/train/exp11, epoch=200"
      ],
      "metadata": {
        "id": "4YZYIyaDVWcJ"
      }
    },
    {
      "cell_type": "code",
      "source": [
        "!python train.py --weights yolov5s.pt --cfg models/yolov5s.yaml --batch-size=16 --epochs 200"
      ],
      "metadata": {
        "id": "8hXlpa_cWyVU"
      },
      "execution_count": null,
      "outputs": []
    },
    {
      "cell_type": "markdown",
      "source": [
        "yolov5s with trained weights and batch-size=1 in runs/train/exp12, epoch=200"
      ],
      "metadata": {
        "id": "l_4NIEAJVWq7"
      }
    },
    {
      "cell_type": "code",
      "source": [
        "!python train.py --weights yolov5s.pt --cfg models/yolov5s.yaml --batch-size=1 --epochs 200"
      ],
      "metadata": {
        "id": "5xShmpnvWzb9"
      },
      "execution_count": null,
      "outputs": []
    },
    {
      "cell_type": "markdown",
      "source": [
        "yolov5s with untrained weights and batch-size=4 in runs/train/exp13, epoch=400"
      ],
      "metadata": {
        "id": "4Uf4aJyxVW3f"
      }
    },
    {
      "cell_type": "code",
      "source": [
        "!python train.py --cfg models/yolov5s.yaml --batch-size=4 --epochs 400"
      ],
      "metadata": {
        "id": "QR84fk2eW0gi"
      },
      "execution_count": null,
      "outputs": []
    },
    {
      "cell_type": "markdown",
      "source": [
        "yolov5s with mobilenetv2 and batch-size=4 in runs/train/exp14, epoch=250"
      ],
      "metadata": {
        "id": "MnAClqUSVuyU"
      }
    },
    {
      "cell_type": "code",
      "source": [
        "!python train.py --cfg models/mobilnetv2.yaml --batch-size=4 --epochs 250"
      ],
      "metadata": {
        "id": "3xYdYrViW4cs"
      },
      "execution_count": null,
      "outputs": []
    },
    {
      "cell_type": "markdown",
      "source": [
        "yolov5s with untrained weights and batch-size=4 in runs/train/exp15, epoch=250"
      ],
      "metadata": {
        "id": "Ff3i-Bv1V5F2"
      }
    },
    {
      "cell_type": "code",
      "source": [
        "!python train.py --cfg models/yolov5s.yaml --batch-size=4 --epochs 250"
      ],
      "metadata": {
        "id": "CVh4eg0FXAQj"
      },
      "execution_count": null,
      "outputs": []
    },
    {
      "cell_type": "markdown",
      "source": [
        "yolov5s with resnet18 and batch-size=4 in runs/train/exp22, epoch=250"
      ],
      "metadata": {
        "id": "NcHmCyYiWPgL"
      }
    },
    {
      "cell_type": "code",
      "source": [
        "!python train.py --cfg models/resnet18.yaml --batch-size=4 --epochs 250"
      ],
      "metadata": {
        "id": "Df3te1dDXB9h"
      },
      "execution_count": null,
      "outputs": []
    },
    {
      "cell_type": "markdown",
      "source": [
        "yolov5n with untrained weights and batch-size=4 in runs/train/exp23, epoch=250"
      ],
      "metadata": {
        "id": "PbX1qrw6WS1i"
      }
    },
    {
      "cell_type": "code",
      "source": [
        "!python train.py --cfg models/yolov5n.yaml --batch-size=4 --epochs 250"
      ],
      "metadata": {
        "id": "czt_Mno9XIj6"
      },
      "execution_count": null,
      "outputs": []
    },
    {
      "cell_type": "markdown",
      "source": [
        "yolov5m with untrained weights and batch-size=4 in runs/train/exp24, epoch=250"
      ],
      "metadata": {
        "id": "afI0gigoWpbI"
      }
    },
    {
      "cell_type": "code",
      "source": [
        "!python train.py --cfg models/yolov5m.yaml --batch-size=4 --epochs 250"
      ],
      "metadata": {
        "id": "L1WwsW3GVGjg"
      },
      "execution_count": null,
      "outputs": []
    },
    {
      "cell_type": "markdown",
      "source": [
        "#Valid best paramaters\n",
        "The order is corresponding to train.\n",
        "\n",
        "I valided the best parameters.\n",
        "\n",
        "You could see my results in /content/yolov5/runs/val."
      ],
      "metadata": {
        "id": "h6f2H-yZXX4d"
      }
    },
    {
      "cell_type": "code",
      "source": [
        "!python val.py --weights runs/train/exp8/weights/best.pt --batch-size 4"
      ],
      "metadata": {
        "id": "3GM02ftwXrD5"
      },
      "execution_count": null,
      "outputs": []
    },
    {
      "cell_type": "code",
      "source": [
        "!python val.py --weights runs/train/exp9/weights/best.pt --batch-size 8"
      ],
      "metadata": {
        "id": "EGbbVnSLXw5x"
      },
      "execution_count": null,
      "outputs": []
    },
    {
      "cell_type": "code",
      "source": [
        "!python val.py --weights runs/train/exp10/weights/best.pt --batch-size 2"
      ],
      "metadata": {
        "id": "-k214WsxX1GL"
      },
      "execution_count": null,
      "outputs": []
    },
    {
      "cell_type": "code",
      "source": [
        "!python val.py --weights runs/train/exp11/weights/best.pt --batch-size 16"
      ],
      "metadata": {
        "id": "Vz_hj0aVX6Vl"
      },
      "execution_count": null,
      "outputs": []
    },
    {
      "cell_type": "code",
      "source": [
        "!python val.py --weights runs/train/exp12/weights/best.pt --batch-size 1"
      ],
      "metadata": {
        "id": "Bil1wH3GX-AH"
      },
      "execution_count": null,
      "outputs": []
    },
    {
      "cell_type": "code",
      "source": [
        "!python val.py --weights runs/train/exp13/weights/best.pt --batch-size 4"
      ],
      "metadata": {
        "id": "chxFcQoZYQ9T"
      },
      "execution_count": null,
      "outputs": []
    },
    {
      "cell_type": "code",
      "source": [
        "!python val.py --weights runs/train/exp14/weights/best.pt --batch-size 4"
      ],
      "metadata": {
        "id": "Fj_ZgP1nYTqW"
      },
      "execution_count": null,
      "outputs": []
    },
    {
      "cell_type": "code",
      "source": [
        "!python val.py --weights runs/train/exp15/weights/best.pt --batch-size 4"
      ],
      "metadata": {
        "id": "eVt9wWozZEgt"
      },
      "execution_count": null,
      "outputs": []
    },
    {
      "cell_type": "code",
      "source": [
        "!python val.py --weights runs/train/exp22/weights/best.pt --batch-size 4"
      ],
      "metadata": {
        "id": "gp6iIwTlZG71"
      },
      "execution_count": null,
      "outputs": []
    },
    {
      "cell_type": "code",
      "source": [
        "!python val.py --weights runs/train/exp23/weights/best.pt --batch-size 4"
      ],
      "metadata": {
        "id": "f6fqrGPLZIid"
      },
      "execution_count": null,
      "outputs": []
    },
    {
      "cell_type": "code",
      "source": [
        "!python val.py --weights runs/train/exp24/weights/best.pt --batch-size 4"
      ],
      "metadata": {
        "id": "2XCoT495ZLrY"
      },
      "execution_count": null,
      "outputs": []
    }
  ]
}